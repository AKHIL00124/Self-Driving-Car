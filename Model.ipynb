{
 "cells": [
  {
   "cell_type": "markdown",
   "id": "d0af4446",
   "metadata": {},
   "source": [
    "## Akhil Karri\n",
    "# Self Driving Car using CNN\n",
    "#### CS455 Machine Vision\n",
    "#### Fall 2024"
   ]
  },
  {
   "cell_type": "code",
   "execution_count": null,
   "id": "fbb98e74-b8d6-4fe0-9ec9-080de85f5be5",
   "metadata": {
    "id": "fbb98e74-b8d6-4fe0-9ec9-080de85f5be5"
   },
   "outputs": [],
   "source": [
    "from tensorflow.python.keras.models import Sequential\n",
    "from tensorflow.python.keras.layers import Conv2D, Flatten, Dense\n",
    "from tensorflow.keras.layers import BatchNormalization, Dropout\n",
    "# from tensorflow.python.keras.optimizers import Adam\n",
    "from tensorflow.keras.optimizers import Adam\n",
    "from keras.optimizers import Adam\n",
    "from sklearn.model_selection import train_test_split\n",
    "from sklearn.utils import shuffle\n",
    "from matplotlib import pyplot as plt\n",
    "import matplotlib.image as mpimg\n",
    "import pandas as pd\n",
    "import numpy as np\n",
    "import cv2 as cv\n",
    "import random\n",
    "import os\n"
   ]
  },
  {
   "cell_type": "code",
   "execution_count": null,
   "id": "qru89mvEYd6F",
   "metadata": {
    "id": "qru89mvEYd6F"
   },
   "outputs": [],
   "source": [
    "def getName(filepath):\n",
    "     return filepath.split('\\\\')[-1]\n",
    "\n",
    "def importDataInfo(path):\n",
    "    cols = ['Center', 'Left', 'Right', 'Steering', 'Throttle', 'Brake', 'Speed' ]\n",
    "    data = pd.read_csv(os.path.join(path, 'driving_log.csv'), names=cols)\n",
    "    print(data.head())\n",
    "\n",
    "    data['Center'] = data['Center'].apply(getName)\n",
    "    print('Total images in the data : ', data.shape[0])\n",
    "    return data"
   ]
  },
  {
   "cell_type": "code",
   "execution_count": 21,
   "id": "HvC5PkMVZsui",
   "metadata": {
    "id": "HvC5PkMVZsui"
   },
   "outputs": [],
   "source": [
    "def loadData(path,data):\n",
    "    imagesPath = []\n",
    "    steering= []\n",
    "    for i in range(len(data)):\n",
    "        indexedData = data.iloc[i]\n",
    "        # print(indexedData)\n",
    "        imagesPath.append(os.path.join(path, 'IMG' , indexedData[0]))\n",
    "        steering.append(float(indexedData[3]))\n",
    "    imagesPath = np.asarray(imagesPath)\n",
    "    steering = np.asarray(steering)\n",
    "    return imagesPath, steering"
   ]
  },
  {
   "cell_type": "code",
   "execution_count": 22,
   "id": "ATEpIO3kZxus",
   "metadata": {
    "id": "ATEpIO3kZxus"
   },
   "outputs": [],
   "source": [
    "def dataBalancer(data, display = False):\n",
    "    nBins = 31\n",
    "    samplesPerBin = 1200\n",
    "    hist, bins = np.histogram(data['Steering'], bins=nBins)\n",
    "    center = (bins[:-1] + bins[1:]) * 0.5\n",
    "    if display:\n",
    "        plt.hist(data['Steering'], bins=nBins)\n",
    "        plt.bar(center, hist, width = 0.05)\n",
    "        plt.plot((-1, 1), (samplesPerBin, samplesPerBin))\n",
    "        plt.show()\n",
    "    removedIndexList = []\n",
    "    for j in range(nBins):\n",
    "        binDataList = []\n",
    "        for i in range(len(data['Steering'])):\n",
    "            if bins[j] <= data['Steering'][i] <= bins[j + 1]:\n",
    "                binDataList.append(i)\n",
    "        binDataList = shuffle(binDataList)\n",
    "        binDataList = binDataList[samplesPerBin:]\n",
    "        removedIndexList.extend(binDataList)\n",
    "    print('removedIndexList', len(removedIndexList))\n",
    "    data.drop(data.index[removedIndexList], inplace=True)\n",
    "    print('Remainig images: ', len(data))\n",
    "    if display:\n",
    "        hist, _  = np.histogram(data['Steering'], bins=nBins)\n",
    "        plt.hist(data['Steering'], bins=nBins)\n",
    "        plt.bar(center, hist, width = 0.05)\n",
    "        plt.show()\n",
    "    return data"
   ]
  },
  {
   "cell_type": "code",
   "execution_count": null,
   "id": "DLKqJPBJZ0ap",
   "metadata": {
    "id": "DLKqJPBJZ0ap"
   },
   "outputs": [],
   "source": [
    "def imageAugmentation(imgpath, steering):\n",
    "    img = cv.imread(imgpath)\n",
    "    img = cv.cvtColor(img, cv.COLOR_BGR2RGB)\n",
    "\n",
    "    # Panning the image randomly by 10%\n",
    "    if np.random.rand() > 0.6:\n",
    "        tx = int(img.shape[1] * np.random.uniform(-0.1, 0.1))\n",
    "        ty = int(img.shape[0] * np.random.uniform(-0.1, 0.1))\n",
    "        translation_matrix = np.float32([[1, 0, tx], [0, 1, ty]])\n",
    "        img = cv.warpAffine(img, translation_matrix, (img.shape[1], img.shape[0]))\n",
    "\n",
    "    # Zoom in randomly by up to 20%\n",
    "    if np.random.rand() > 0.6:\n",
    "        zoom_factor = np.random.uniform(1.0, 1.2)\n",
    "        height, width = img.shape[:2]\n",
    "        center_x, center_y = width // 2, height // 2\n",
    "        new_width, new_height = int(width / zoom_factor), int(height / zoom_factor)\n",
    "\n",
    "        # Crop and resize to simulate zoom\n",
    "        cropped_img = img[\n",
    "            center_y - new_height // 2 : center_y + new_height // 2,\n",
    "            center_x - new_width // 2 : center_x + new_width // 2\n",
    "        ]\n",
    "        img = cv.resize(cropped_img, (width, height), interpolation=cv.INTER_LINEAR)\n",
    "\n",
    "    # Make the image darker or brighter\n",
    "    if np.random.rand() > 0.6:\n",
    "        brightness_factor = np.random.uniform(0.8, 1.2)\n",
    "        img = cv.convertScaleAbs(img, alpha=brightness_factor, beta=0)\n",
    "\n",
    "    # Flip the image and adjust steering\n",
    "    if np.random.rand() > 0.6:\n",
    "        img = cv.flip(img, 1)\n",
    "        steering = -steering\n",
    "    return img, steering"
   ]
  },
  {
   "cell_type": "code",
   "execution_count": 24,
   "id": "9qbG4FmrZ3cm",
   "metadata": {
    "id": "9qbG4FmrZ3cm"
   },
   "outputs": [],
   "source": [
    "def preProcessing(img):\n",
    "    img = cv.cvtColor(img, cv.COLOR_BGR2YUV)\n",
    "    img = img[60:135,:,:]\n",
    "    img = cv.GaussianBlur(img, (3, 3), 0)\n",
    "    img = cv.resize(img, (200, 66))\n",
    "    img = img/255\n",
    "    return img\n",
    "\n",
    "# imgPre = preProcessing(cv.imread('data/IMG/center_2024_12_03_17_43_00_256.jpg'))\n",
    "# plt.imshow(imgPre)\n",
    "# plt.show()"
   ]
  },
  {
   "cell_type": "code",
   "execution_count": 25,
   "id": "ub3hfs3_aEHa",
   "metadata": {
    "id": "ub3hfs3_aEHa"
   },
   "outputs": [],
   "source": [
    "def batchGen(imagesPath, steeringList, batchSize, trainFlag):\n",
    "    while True:\n",
    "         imgBatch = []\n",
    "         steeringBatch = []\n",
    "\n",
    "         for i in range(batchSize):\n",
    "             index = random.randint(0, len(imagesPath) -  1)\n",
    "             if trainFlag:\n",
    "                img, steering = imageAugmentation(imagesPath[index], steeringList[i])\n",
    "             else:\n",
    "                 img = mpimg.imread(imagesPath[index])\n",
    "                 steering = steeringList[index]\n",
    "             img = preProcessing(img)\n",
    "             imgBatch.append(img)\n",
    "             steeringBatch.append(steering)\n",
    "         yield(np.asarray(imgBatch), np.asarray(steeringBatch))"
   ]
  },
  {
   "cell_type": "code",
   "execution_count": null,
   "id": "29e65b2c-2ec5-4a87-9c7f-0e3a52fe1fc6",
   "metadata": {
    "id": "29e65b2c-2ec5-4a87-9c7f-0e3a52fe1fc6"
   },
   "outputs": [],
   "source": [
    "def createModel():\n",
    "  model = Sequential()\n",
    "\n",
    "  # Convolutional layers with ELU activation\n",
    "  model.add(Conv2D(24, (5, 5), strides=(2, 2), input_shape=(66, 200, 3), activation='elu'))\n",
    "  model.add(Conv2D(36, (5, 5), strides=(2, 2), activation='elu'))\n",
    "  model.add(Conv2D(48, (5, 5), strides=(2, 2), activation='elu'))\n",
    "  model.add(Conv2D(64, (3, 3), activation='elu'))\n",
    "  model.add(Conv2D(64, (3, 3), activation='elu'))\n",
    "\n",
    "  # Fully connected layers\n",
    "  model.add(Flatten())\n",
    "  model.add(Dense(100, activation='elu'))\n",
    "  model.add(Dense(50, activation='elu'))\n",
    "  model.add(Dense(10, activation='elu'))\n",
    "  model.add(Dense(1))  \n",
    "\n",
    "  model.compile(optimizer='adam', loss='mse', metrics=['mae'])\n",
    "\n",
    "  return model"
   ]
  },
  {
   "cell_type": "code",
   "execution_count": 27,
   "id": "c2c5ea30-55b1-4935-b888-d2a0d4405b05",
   "metadata": {
    "colab": {
     "base_uri": "https://localhost:8080/"
    },
    "id": "c2c5ea30-55b1-4935-b888-d2a0d4405b05",
    "outputId": "6a7cfa25-226b-41dc-fc41-eee5541da6d7"
   },
   "outputs": [
    {
     "name": "stdout",
     "output_type": "stream",
     "text": [
      "Model: \"sequential_1\"\n",
      "_________________________________________________________________\n",
      "Layer (type)                 Output Shape              Param #   \n",
      "=================================================================\n",
      "conv2d_5 (Conv2D)            (None, 31, 98, 24)        1824      \n",
      "_________________________________________________________________\n",
      "conv2d_6 (Conv2D)            (None, 14, 47, 36)        21636     \n",
      "_________________________________________________________________\n",
      "conv2d_7 (Conv2D)            (None, 5, 22, 48)         43248     \n",
      "_________________________________________________________________\n",
      "conv2d_8 (Conv2D)            (None, 3, 20, 64)         27712     \n",
      "_________________________________________________________________\n",
      "conv2d_9 (Conv2D)            (None, 1, 18, 64)         36928     \n",
      "_________________________________________________________________\n",
      "flatten_1 (Flatten)          (None, 1152)              0         \n",
      "_________________________________________________________________\n",
      "dense_4 (Dense)              (None, 100)               115300    \n",
      "_________________________________________________________________\n",
      "dense_5 (Dense)              (None, 50)                5050      \n",
      "_________________________________________________________________\n",
      "dense_6 (Dense)              (None, 10)                510       \n",
      "_________________________________________________________________\n",
      "dense_7 (Dense)              (None, 1)                 11        \n",
      "=================================================================\n",
      "Total params: 252,219\n",
      "Trainable params: 252,219\n",
      "Non-trainable params: 0\n",
      "_________________________________________________________________\n"
     ]
    }
   ],
   "source": [
    "model = createModel()\n",
    "model.summary()"
   ]
  },
  {
   "cell_type": "code",
   "execution_count": 28,
   "id": "VOoBfRWQ1hXX",
   "metadata": {
    "colab": {
     "base_uri": "https://localhost:8080/"
    },
    "id": "VOoBfRWQ1hXX",
    "outputId": "bd92349f-7dd7-4d25-ac30-178975247f56"
   },
   "outputs": [
    {
     "name": "stdout",
     "output_type": "stream",
     "text": [
      "Drive already mounted at /content/drive; to attempt to forcibly remount, call drive.mount(\"/content/drive\", force_remount=True).\n"
     ]
    }
   ],
   "source": [
    "from google.colab import drive\n",
    "drive.mount('/content/drive')"
   ]
  },
  {
   "cell_type": "code",
   "execution_count": 29,
   "id": "6b2a81b2-2c6a-4819-b060-07aac55c7de9",
   "metadata": {
    "colab": {
     "base_uri": "https://localhost:8080/"
    },
    "id": "6b2a81b2-2c6a-4819-b060-07aac55c7de9",
    "outputId": "41b75e8b-7e6f-4e91-99ab-a5827bf3a22a"
   },
   "outputs": [
    {
     "name": "stdout",
     "output_type": "stream",
     "text": [
      "                                              Center  \\\n",
      "0  C:\\Users\\akhilkarri\\Downloads\\term1-simulator-...   \n",
      "1  C:\\Users\\akhilkarri\\Downloads\\term1-simulator-...   \n",
      "2  C:\\Users\\akhilkarri\\Downloads\\term1-simulator-...   \n",
      "3  C:\\Users\\akhilkarri\\Downloads\\term1-simulator-...   \n",
      "4  C:\\Users\\akhilkarri\\Downloads\\term1-simulator-...   \n",
      "\n",
      "                                                Left  \\\n",
      "0  C:\\Users\\akhilkarri\\Downloads\\term1-simulator-...   \n",
      "1  C:\\Users\\akhilkarri\\Downloads\\term1-simulator-...   \n",
      "2  C:\\Users\\akhilkarri\\Downloads\\term1-simulator-...   \n",
      "3  C:\\Users\\akhilkarri\\Downloads\\term1-simulator-...   \n",
      "4  C:\\Users\\akhilkarri\\Downloads\\term1-simulator-...   \n",
      "\n",
      "                                               Right  Steering  Throttle  \\\n",
      "0  C:\\Users\\akhilkarri\\Downloads\\term1-simulator-...       0.0       0.0   \n",
      "1  C:\\Users\\akhilkarri\\Downloads\\term1-simulator-...       0.0       0.0   \n",
      "2  C:\\Users\\akhilkarri\\Downloads\\term1-simulator-...       0.0       0.0   \n",
      "3  C:\\Users\\akhilkarri\\Downloads\\term1-simulator-...       0.0       0.0   \n",
      "4  C:\\Users\\akhilkarri\\Downloads\\term1-simulator-...       0.0       0.0   \n",
      "\n",
      "   Brake     Speed  \n",
      "0      0  0.000056  \n",
      "1      0  0.000055  \n",
      "2      0  0.000054  \n",
      "3      0  0.000054  \n",
      "4      0  0.000054  \n",
      "Total images in the data :  9551\n"
     ]
    }
   ],
   "source": [
    "path = '/content/drive/MyDrive/data'\n",
    "data = importDataInfo(path)"
   ]
  },
  {
   "cell_type": "code",
   "execution_count": 30,
   "id": "26596521-c1ff-477f-9368-ac6dc359a7aa",
   "metadata": {
    "colab": {
     "base_uri": "https://localhost:8080/"
    },
    "id": "26596521-c1ff-477f-9368-ac6dc359a7aa",
    "outputId": "bd582410-d96f-4397-b99f-c2f19e9e31af"
   },
   "outputs": [
    {
     "name": "stdout",
     "output_type": "stream",
     "text": [
      "removedIndexList 3325\n",
      "Remainig images:  6226\n"
     ]
    },
    {
     "name": "stderr",
     "output_type": "stream",
     "text": [
      "<ipython-input-21-dca90fd4008b>:7: FutureWarning: Series.__getitem__ treating keys as positions is deprecated. In a future version, integer keys will always be treated as labels (consistent with DataFrame behavior). To access a value by position, use `ser.iloc[pos]`\n",
      "  imagesPath.append(os.path.join(path, 'IMG' , indexedData[0]))\n",
      "<ipython-input-21-dca90fd4008b>:8: FutureWarning: Series.__getitem__ treating keys as positions is deprecated. In a future version, integer keys will always be treated as labels (consistent with DataFrame behavior). To access a value by position, use `ser.iloc[pos]`\n",
      "  steering.append(float(indexedData[3]))\n"
     ]
    },
    {
     "name": "stdout",
     "output_type": "stream",
     "text": [
      "training and validation set shape:  (4980,) (1246,)\n"
     ]
    }
   ],
   "source": [
    "data = dataBalancer(data)\n",
    "\n",
    "imagesPath, steering  = loadData(path, data)\n",
    "\n",
    "x_train, x_val, y_train, y_val = train_test_split(imagesPath, steering, test_size=0.2, random_state=42)\n",
    "print('training and validation set shape: ', x_train.shape, x_val.shape)"
   ]
  },
  {
   "cell_type": "code",
   "execution_count": null,
   "id": "KKYtw-XH1wX5",
   "metadata": {
    "colab": {
     "base_uri": "https://localhost:8080/"
    },
    "id": "KKYtw-XH1wX5",
    "outputId": "9784fa0c-fe9c-4362-ac5f-429674888bf8"
   },
   "outputs": [],
   "source": [
    "!pip install tensorflow==2.12.0"
   ]
  },
  {
   "cell_type": "code",
   "execution_count": null,
   "id": "74841368-e7cb-457c-92a0-f550874823e7",
   "metadata": {
    "colab": {
     "base_uri": "https://localhost:8080/"
    },
    "id": "74841368-e7cb-457c-92a0-f550874823e7",
    "outputId": "a9cabc91-f974-4386-f938-c3c34c427ff6"
   },
   "outputs": [
    {
     "name": "stdout",
     "output_type": "stream",
     "text": [
      "Epoch 1/10\n",
      "300/300 [==============================] - 2178s 7s/step - loss: 0.2207 - mae: 0.3058 - val_loss: 0.1505 - val_mae: 0.2576\n",
      "Epoch 2/10\n",
      "300/300 [==============================] - 224s 751ms/step - loss: 0.1559 - mae: 0.2770 - val_loss: 0.1496 - val_mae: 0.2555\n",
      "Epoch 3/10\n",
      "300/300 [==============================] - 222s 744ms/step - loss: 0.1557 - mae: 0.2768 - val_loss: 0.1514 - val_mae: 0.2603\n",
      "Epoch 4/10\n",
      "300/300 [==============================] - 222s 742ms/step - loss: 0.1570 - mae: 0.2794 - val_loss: 0.1484 - val_mae: 0.2556\n",
      "Epoch 5/10\n",
      "300/300 [==============================] - 222s 744ms/step - loss: 0.1555 - mae: 0.2761 - val_loss: 0.1497 - val_mae: 0.2605\n",
      "Epoch 6/10\n",
      "300/300 [==============================] - 223s 744ms/step - loss: 0.1554 - mae: 0.2759 - val_loss: 0.1525 - val_mae: 0.2601\n",
      "Epoch 7/10\n",
      "300/300 [==============================] - 223s 744ms/step - loss: 0.1553 - mae: 0.2756 - val_loss: 0.1516 - val_mae: 0.2599\n",
      "Epoch 8/10\n",
      "300/300 [==============================] - 223s 745ms/step - loss: 0.1552 - mae: 0.2751 - val_loss: 0.1525 - val_mae: 0.2649\n",
      "Epoch 9/10\n",
      "300/300 [==============================] - 222s 744ms/step - loss: 0.1555 - mae: 0.2761 - val_loss: 0.1539 - val_mae: 0.2644\n",
      "Epoch 10/10\n",
      "300/300 [==============================] - 223s 745ms/step - loss: 0.1551 - mae: 0.2747 - val_loss: 0.1487 - val_mae: 0.2536\n"
     ]
    }
   ],
   "source": [
    "history = model.fit( batchGen(x_train, y_train, batchSize=100, trainFlag=True), steps_per_epoch=300,epochs=10, validation_data=batchGen(x_val, y_val, batchSize=100, trainFlag=False), validation_steps=200)"
   ]
  },
  {
   "cell_type": "code",
   "execution_count": null,
   "id": "4inCKKiA0RH_",
   "metadata": {
    "colab": {
     "base_uri": "https://localhost:8080/"
    },
    "id": "4inCKKiA0RH_",
    "outputId": "cf78eabe-0342-43ef-fe88-a9a287e1a992"
   },
   "outputs": [
    {
     "name": "stdout",
     "output_type": "stream",
     "text": [
      "model saved\n"
     ]
    }
   ],
   "source": [
    "model.save('model.h5')\n",
    "print('model saved')"
   ]
  },
  {
   "cell_type": "code",
   "execution_count": null,
   "id": "n7ZYgXK5kIn8",
   "metadata": {
    "colab": {
     "base_uri": "https://localhost:8080/",
     "height": 17
    },
    "id": "n7ZYgXK5kIn8",
    "outputId": "a8169a46-7d11-45bc-af84-5e540d4c4815"
   },
   "outputs": [
    {
     "data": {
      "application/javascript": "\n    async function download(id, filename, size) {\n      if (!google.colab.kernel.accessAllowed) {\n        return;\n      }\n      const div = document.createElement('div');\n      const label = document.createElement('label');\n      label.textContent = `Downloading \"${filename}\": `;\n      div.appendChild(label);\n      const progress = document.createElement('progress');\n      progress.max = size;\n      div.appendChild(progress);\n      document.body.appendChild(div);\n\n      const buffers = [];\n      let downloaded = 0;\n\n      const channel = await google.colab.kernel.comms.open(id);\n      // Send a message to notify the kernel that we're ready.\n      channel.send({})\n\n      for await (const message of channel.messages) {\n        // Send a message to notify the kernel that we're ready.\n        channel.send({})\n        if (message.buffers) {\n          for (const buffer of message.buffers) {\n            buffers.push(buffer);\n            downloaded += buffer.byteLength;\n            progress.value = downloaded;\n          }\n        }\n      }\n      const blob = new Blob(buffers, {type: 'application/binary'});\n      const a = document.createElement('a');\n      a.href = window.URL.createObjectURL(blob);\n      a.download = filename;\n      div.appendChild(a);\n      a.click();\n      div.remove();\n    }\n  ",
      "text/plain": [
       "<IPython.core.display.Javascript object>"
      ]
     },
     "metadata": {},
     "output_type": "display_data"
    },
    {
     "data": {
      "application/javascript": "download(\"download_b2665d64-5714-45b2-9d9a-ebf45c0418df\", \"model2.h5\", 3105280)",
      "text/plain": [
       "<IPython.core.display.Javascript object>"
      ]
     },
     "metadata": {},
     "output_type": "display_data"
    }
   ],
   "source": [
    "from google.colab import files\n",
    "files.download('model.h5')"
   ]
  },
  {
   "cell_type": "code",
   "execution_count": null,
   "id": "339174f5-34a6-4365-aef8-f46cb5b562ab",
   "metadata": {
    "colab": {
     "base_uri": "https://localhost:8080/",
     "height": 472
    },
    "id": "339174f5-34a6-4365-aef8-f46cb5b562ab",
    "outputId": "1e9be5b1-e55f-42e6-bedc-acd5de517684"
   },
   "outputs": [
    {
     "data": {
      "image/png": "[encoded data removed]",
      "text/plain": [
       "<Figure size 640x480 with 1 Axes>"
      ]
     },
     "metadata": {},
     "output_type": "display_data"
    }
   ],
   "source": [
    "plt.plot(history.history['loss'] )\n",
    "plt.plot(history.history['val_loss'])\n",
    "plt.legend(['Training loss', 'Val loss'])\n",
    "plt.title('Loss')\n",
    "# plt.ylim([0, 1])\n",
    "plt.xlabel('Epoch')\n",
    "plt.show()"
   ]
  },
  {
   "cell_type": "code",
   "execution_count": 35,
   "id": "ZCZQugWphKHj",
   "metadata": {
    "colab": {
     "base_uri": "https://localhost:8080/",
     "height": 472
    },
    "id": "ZCZQugWphKHj",
    "outputId": "1298c34a-64a8-4110-cb1b-e1a21c72ac10"
   },
   "outputs": [
    {
     "data": {
      "image/png": "[encoded data removed]",
      "text/plain": [
       "<Figure size 640x480 with 1 Axes>"
      ]
     },
     "metadata": {},
     "output_type": "display_data"
    }
   ],
   "source": [
    "plt.plot(history.history['mae'])\n",
    "plt.plot(history.history['val_mae'])\n",
    "plt.legend(['Training mae', 'Val mae'])\n",
    "plt.title('Mean Absolute Error')\n",
    "plt.xlabel('Epoch')\n",
    "plt.show()"
   ]
  }
 ],
 "metadata": {
  "accelerator": "GPU",
  "colab": {
   "gpuType": "L4",
   "machine_shape": "hm",
   "provenance": []
  },
  "kernelspec": {
   "display_name": "Python 3",
   "name": "python3"
  },
  "language_info": {
   "codemirror_mode": {
    "name": "ipython",
    "version": 3
   },
   "file_extension": ".py",
   "mimetype": "text/x-python",
   "name": "python",
   "nbconvert_exporter": "python",
   "pygments_lexer": "ipython3",
   "version": "3.12.7"
  }
 },
 "nbformat": 4,
 "nbformat_minor": 5
}
